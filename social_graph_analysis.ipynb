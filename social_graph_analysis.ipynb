{
 "cells": [
  {
   "cell_type": "markdown",
   "metadata": {},
   "source": [
    "# Создание социального графа"
   ]
  },
  {
   "cell_type": "markdown",
   "metadata": {},
   "source": [
    "В этом блокноте мы выгрузим данные о клубе и построим его социальный граф, который потом визуализируем с помощью JS. \n",
    "\n",
    "Предварительно нужно получить доступ к API ВКонтакте: создать токен (схема есть <a href = 'http://all-for-vkontakte.ru/catalog/access-token-vkontakte'>например, здесь</a>).\n",
    "\n",
    "Создайте себе токен и положите его в файл `secret.json` примерно такого вида:\n",
    "\n",
    "    {\n",
    "      \"token\": \"abcdefg123456\"\n",
    "    }\n",
    "    \n",
    "    \n",
    "\n",
    "Важно: в файле должна быть четвёртая, пустая, строка. "
   ]
  },
  {
   "cell_type": "markdown",
   "metadata": {},
   "source": [
    "## Технические требования"
   ]
  },
  {
   "cell_type": "code",
   "execution_count": 1,
   "metadata": {
    "collapsed": true
   },
   "outputs": [],
   "source": [
    "import json\n",
    "with open('secret.json', 'r') as f:\n",
    "    secret = json.load(f)"
   ]
  },
  {
   "cell_type": "code",
   "execution_count": 2,
   "metadata": {
    "collapsed": true
   },
   "outputs": [],
   "source": [
    "token = secret['token']\n",
    "vk_api_version = \"5.92\""
   ]
  },
  {
   "cell_type": "code",
   "execution_count": 3,
   "metadata": {
    "collapsed": true
   },
   "outputs": [],
   "source": [
    "%matplotlib inline\n",
    "import numpy as np\n",
    "import pandas as pd\n",
    "import matplotlib.pyplot as plt"
   ]
  },
  {
   "cell_type": "code",
   "execution_count": 4,
   "metadata": {
    "collapsed": true
   },
   "outputs": [],
   "source": [
    "import pymorphy2\n",
    "anl = pymorphy2.MorphAnalyzer();"
   ]
  },
  {
   "cell_type": "code",
   "execution_count": 5,
   "metadata": {
    "collapsed": true
   },
   "outputs": [],
   "source": [
    "import warnings"
   ]
  },
  {
   "cell_type": "code",
   "execution_count": 6,
   "metadata": {
    "collapsed": true
   },
   "outputs": [],
   "source": [
    "inflect_fixlist = {\n",
    "    'Айрана': {'gent': 'Айраны', 'ablt': 'Айраной'}\n",
    "}"
   ]
  },
  {
   "cell_type": "code",
   "execution_count": 7,
   "metadata": {},
   "outputs": [
    {
     "data": {
      "text/plain": [
       "{'ablt': 'Альфией', 'gent': 'Альфии'}"
      ]
     },
     "execution_count": 7,
     "metadata": {},
     "output_type": "execute_result"
    }
   ],
   "source": [
    "def get_inflections(word):\n",
    "    parsed = anl.parse(word)\n",
    "    p = None\n",
    "    for hyp in parsed:\n",
    "        if hyp.tag.case == 'nomn':\n",
    "            p = hyp\n",
    "            break\n",
    "    if p is None:\n",
    "        word = word.capitalize()\n",
    "        if word in inflect_fixlist:\n",
    "            return inflect_fixlist[word]\n",
    "        else:\n",
    "            warnings.warn('Could not parse name \"{}\", hypotheses are {}'.format(word, parsed))\n",
    "            return {'gent': word, 'ablt': word}\n",
    "    result = {}\n",
    "    for case in ['gent', 'ablt']:\n",
    "        result[case] = p.inflect({case}).word.capitalize()\n",
    "    return result\n",
    "get_inflections('альфия')"
   ]
  },
  {
   "cell_type": "markdown",
   "metadata": {},
   "source": [
    "# Собственно, задача Каппы Веди"
   ]
  },
  {
   "cell_type": "code",
   "execution_count": 8,
   "metadata": {},
   "outputs": [
    {
     "data": {
      "text/plain": [
       "(85, 23)"
      ]
     },
     "execution_count": 8,
     "metadata": {},
     "output_type": "execute_result"
    }
   ],
   "source": [
    "excel = pd.read_excel('Опрос КВ НГ.xlsx')\n",
    "excel.shape"
   ]
  },
  {
   "cell_type": "code",
   "execution_count": 9,
   "metadata": {},
   "outputs": [
    {
     "data": {
      "text/html": [
       "<div>\n",
       "<style scoped>\n",
       "    .dataframe tbody tr th:only-of-type {\n",
       "        vertical-align: middle;\n",
       "    }\n",
       "\n",
       "    .dataframe tbody tr th {\n",
       "        vertical-align: top;\n",
       "    }\n",
       "\n",
       "    .dataframe thead th {\n",
       "        text-align: right;\n",
       "    }\n",
       "</style>\n",
       "<table border=\"1\" class=\"dataframe\">\n",
       "  <thead>\n",
       "    <tr style=\"text-align: right;\">\n",
       "      <th></th>\n",
       "      <th>0</th>\n",
       "      <th>1</th>\n",
       "      <th>2</th>\n",
       "    </tr>\n",
       "  </thead>\n",
       "  <tbody>\n",
       "    <tr>\n",
       "      <th>#</th>\n",
       "      <td>70f89da2a65b1222c0bf9c6ad8ada254</td>\n",
       "      <td>83408438908f9bee8e3278fecd369191</td>\n",
       "      <td>a951e6b3e9a78dc7aaf6a977748ac580</td>\n",
       "    </tr>\n",
       "    <tr>\n",
       "      <th>Назови своё имя</th>\n",
       "      <td>Тимур</td>\n",
       "      <td>Алина</td>\n",
       "      <td>Арина</td>\n",
       "    </tr>\n",
       "    <tr>\n",
       "      <th>и фамилию</th>\n",
       "      <td>Али-Заде</td>\n",
       "      <td>Иванова</td>\n",
       "      <td>Егорова</td>\n",
       "    </tr>\n",
       "    <tr>\n",
       "      <th>Член клуба</th>\n",
       "      <td>0</td>\n",
       "      <td>0</td>\n",
       "      <td>1</td>\n",
       "    </tr>\n",
       "    <tr>\n",
       "      <th>Из какого ты города?</th>\n",
       "      <td>Москва</td>\n",
       "      <td>Балаково</td>\n",
       "      <td>Москва</td>\n",
       "    </tr>\n",
       "    <tr>\n",
       "      <th>Дай ссылку на свою страницу Вконтакте и мы поможем найти твоих друзей на встрече</th>\n",
       "      <td>https://vk.com/timuraz</td>\n",
       "      <td>NaN</td>\n",
       "      <td>https://vk.com/id119458406</td>\n",
       "    </tr>\n",
       "    <tr>\n",
       "      <th>Выбери свой первый вуз - бакалавриат</th>\n",
       "      <td>Финансовый университет</td>\n",
       "      <td>NaN</td>\n",
       "      <td>НИУ ВШЭ</td>\n",
       "    </tr>\n",
       "    <tr>\n",
       "      <th>Other</th>\n",
       "      <td>NaN</td>\n",
       "      <td>Frankfurt School of Finance &amp; Management</td>\n",
       "      <td>NaN</td>\n",
       "    </tr>\n",
       "    <tr>\n",
       "      <th>Укажи свой факультет в бакалавриате</th>\n",
       "      <td>Учет и аудит</td>\n",
       "      <td>International Business Administration</td>\n",
       "      <td>Мировой экономики и мировой политики</td>\n",
       "    </tr>\n",
       "    <tr>\n",
       "      <th>Выбери свой первый вуз - магистратура</th>\n",
       "      <td>Финансовый университет</td>\n",
       "      <td>NaN</td>\n",
       "      <td>NaN</td>\n",
       "    </tr>\n",
       "    <tr>\n",
       "      <th>Other.1</th>\n",
       "      <td>NaN</td>\n",
       "      <td>NaN</td>\n",
       "      <td>Нет маги</td>\n",
       "    </tr>\n",
       "    <tr>\n",
       "      <th>Укажи свой факультет в магистратуре</th>\n",
       "      <td>Менеджмент</td>\n",
       "      <td>NaN</td>\n",
       "      <td>Нет маги</td>\n",
       "    </tr>\n",
       "    <tr>\n",
       "      <th>Где ты сейчас работаешь?</th>\n",
       "      <td>Wheely</td>\n",
       "      <td>EY (Ernst &amp; Young)</td>\n",
       "      <td>experum.ru</td>\n",
       "    </tr>\n",
       "    <tr>\n",
       "      <th>Расскажи о других местах работы</th>\n",
       "      <td>Family office , МБА москва , Нпф Транснефть</td>\n",
       "      <td>IT advisory — MSG Gillardon, EY Moscow</td>\n",
       "      <td>ex-Директор по инновацим Ward Howell, консульт...</td>\n",
       "    </tr>\n",
       "    <tr>\n",
       "      <th>Какое у тебя хобби?</th>\n",
       "      <td>Спорт путешествия чтение</td>\n",
       "      <td>Хореография, вокал,  создание музыки, акварель...</td>\n",
       "      <td>Баскетбол, настольный теннис, пейнтбол</td>\n",
       "    </tr>\n",
       "    <tr>\n",
       "      <th>Расскажи о своих профессиональных интересах.</th>\n",
       "      <td>Инвестиции</td>\n",
       "      <td>Управление персоналом, мотивация сотрудников, ...</td>\n",
       "      <td>Hrtech, it стартапы, executive search, карьерн...</td>\n",
       "    </tr>\n",
       "    <tr>\n",
       "      <th>Загрузи свое фото, на котором четко видно лицо.</th>\n",
       "      <td>https://api.typeform.com/responses/files/0d925...</td>\n",
       "      <td>https://api.typeform.com/responses/files/7a890...</td>\n",
       "      <td>https://api.typeform.com/responses/files/337ee...</td>\n",
       "    </tr>\n",
       "    <tr>\n",
       "      <th>Напиши fun fact о себе, которым хотелось бы поделиться.</th>\n",
       "      <td>Выступал по телеку</td>\n",
       "      <td>Хочу пробежать 10к в феврале в Лондоне — надею...</td>\n",
       "      <td>Мало, кто знает, но на важных встречах я вечно...</td>\n",
       "    </tr>\n",
       "    <tr>\n",
       "      <th>Фраза</th>\n",
       "      <td>Я выступал/a на телевидении</td>\n",
       "      <td>Хочу пробежать 10 км в феврале в Лондоне</td>\n",
       "      <td>На важных встречах я вечно что-то роняю, споты...</td>\n",
       "    </tr>\n",
       "    <tr>\n",
       "      <th>Присутствие</th>\n",
       "      <td>1</td>\n",
       "      <td>1</td>\n",
       "      <td>0</td>\n",
       "    </tr>\n",
       "    <tr>\n",
       "      <th>Start Date (UTC)</th>\n",
       "      <td>2018-12-21 12:21:02</td>\n",
       "      <td>2018-12-21 11:03:16</td>\n",
       "      <td>2018-12-21 10:41:30</td>\n",
       "    </tr>\n",
       "    <tr>\n",
       "      <th>Submit Date (UTC)</th>\n",
       "      <td>2018-12-21 12:24:35</td>\n",
       "      <td>2018-12-21 11:14:58</td>\n",
       "      <td>2018-12-21 10:49:19</td>\n",
       "    </tr>\n",
       "    <tr>\n",
       "      <th>Network ID</th>\n",
       "      <td>26ba7dd9fd</td>\n",
       "      <td>9d8e925cd5</td>\n",
       "      <td>ae65a598e2</td>\n",
       "    </tr>\n",
       "  </tbody>\n",
       "</table>\n",
       "</div>"
      ],
      "text/plain": [
       "                                                                                                    0  \\\n",
       "#                                                                    70f89da2a65b1222c0bf9c6ad8ada254   \n",
       "Назови своё имя                                                                                 Тимур   \n",
       "и фамилию                                                                                    Али-Заде   \n",
       "Член клуба                                                                                          0   \n",
       "Из какого ты города?                                                                           Москва   \n",
       "Дай ссылку на свою страницу Вконтакте и мы помо...                             https://vk.com/timuraz   \n",
       "Выбери свой первый вуз - бакалавриат                                           Финансовый университет   \n",
       "Other                                                                                             NaN   \n",
       "Укажи свой факультет в бакалавриате                                                      Учет и аудит   \n",
       "Выбери свой первый вуз - магистратура                                          Финансовый университет   \n",
       "Other.1                                                                                           NaN   \n",
       "Укажи свой факультет в магистратуре                                                        Менеджмент   \n",
       "Где ты сейчас работаешь?                                                                       Wheely   \n",
       "Расскажи о других местах работы                           Family office , МБА москва , Нпф Транснефть   \n",
       "Какое у тебя хобби?                                                          Спорт путешествия чтение   \n",
       "Расскажи о своих профессиональных интересах.                                               Инвестиции   \n",
       "Загрузи свое фото, на котором четко видно лицо.     https://api.typeform.com/responses/files/0d925...   \n",
       "Напиши fun fact о себе, которым хотелось бы под...                                 Выступал по телеку   \n",
       "Фраза                                                                     Я выступал/a на телевидении   \n",
       "Присутствие                                                                                         1   \n",
       "Start Date (UTC)                                                                  2018-12-21 12:21:02   \n",
       "Submit Date (UTC)                                                                 2018-12-21 12:24:35   \n",
       "Network ID                                                                                 26ba7dd9fd   \n",
       "\n",
       "                                                                                                    1  \\\n",
       "#                                                                    83408438908f9bee8e3278fecd369191   \n",
       "Назови своё имя                                                                                 Алина   \n",
       "и фамилию                                                                                     Иванова   \n",
       "Член клуба                                                                                          0   \n",
       "Из какого ты города?                                                                         Балаково   \n",
       "Дай ссылку на свою страницу Вконтакте и мы помо...                                                NaN   \n",
       "Выбери свой первый вуз - бакалавриат                                                              NaN   \n",
       "Other                                                        Frankfurt School of Finance & Management   \n",
       "Укажи свой факультет в бакалавриате                             International Business Administration   \n",
       "Выбери свой первый вуз - магистратура                                                             NaN   \n",
       "Other.1                                                                                           NaN   \n",
       "Укажи свой факультет в магистратуре                                                               NaN   \n",
       "Где ты сейчас работаешь?                                                           EY (Ernst & Young)   \n",
       "Расскажи о других местах работы                                IT advisory — MSG Gillardon, EY Moscow   \n",
       "Какое у тебя хобби?                                 Хореография, вокал,  создание музыки, акварель...   \n",
       "Расскажи о своих профессиональных интересах.        Управление персоналом, мотивация сотрудников, ...   \n",
       "Загрузи свое фото, на котором четко видно лицо.     https://api.typeform.com/responses/files/7a890...   \n",
       "Напиши fun fact о себе, которым хотелось бы под...  Хочу пробежать 10к в феврале в Лондоне — надею...   \n",
       "Фраза                                                        Хочу пробежать 10 км в феврале в Лондоне   \n",
       "Присутствие                                                                                         1   \n",
       "Start Date (UTC)                                                                  2018-12-21 11:03:16   \n",
       "Submit Date (UTC)                                                                 2018-12-21 11:14:58   \n",
       "Network ID                                                                                 9d8e925cd5   \n",
       "\n",
       "                                                                                                    2  \n",
       "#                                                                    a951e6b3e9a78dc7aaf6a977748ac580  \n",
       "Назови своё имя                                                                                 Арина  \n",
       "и фамилию                                                                                     Егорова  \n",
       "Член клуба                                                                                          1  \n",
       "Из какого ты города?                                                                           Москва  \n",
       "Дай ссылку на свою страницу Вконтакте и мы помо...                         https://vk.com/id119458406  \n",
       "Выбери свой первый вуз - бакалавриат                                                          НИУ ВШЭ  \n",
       "Other                                                                                             NaN  \n",
       "Укажи свой факультет в бакалавриате                              Мировой экономики и мировой политики  \n",
       "Выбери свой первый вуз - магистратура                                                             NaN  \n",
       "Other.1                                                                                      Нет маги  \n",
       "Укажи свой факультет в магистратуре                                                          Нет маги  \n",
       "Где ты сейчас работаешь?                                                                   experum.ru  \n",
       "Расскажи о других местах работы                     ex-Директор по инновацим Ward Howell, консульт...  \n",
       "Какое у тебя хобби?                                            Баскетбол, настольный теннис, пейнтбол  \n",
       "Расскажи о своих профессиональных интересах.        Hrtech, it стартапы, executive search, карьерн...  \n",
       "Загрузи свое фото, на котором четко видно лицо.     https://api.typeform.com/responses/files/337ee...  \n",
       "Напиши fun fact о себе, которым хотелось бы под...  Мало, кто знает, но на важных встречах я вечно...  \n",
       "Фраза                                               На важных встречах я вечно что-то роняю, споты...  \n",
       "Присутствие                                                                                         0  \n",
       "Start Date (UTC)                                                                  2018-12-21 10:41:30  \n",
       "Submit Date (UTC)                                                                 2018-12-21 10:49:19  \n",
       "Network ID                                                                                 ae65a598e2  "
      ]
     },
     "execution_count": 9,
     "metadata": {},
     "output_type": "execute_result"
    }
   ],
   "source": [
    "excel.head(3).T"
   ]
  },
  {
   "cell_type": "code",
   "execution_count": 10,
   "metadata": {
    "collapsed": true
   },
   "outputs": [],
   "source": [
    "PHOTO_COL = 'Загрузи свое фото, на котором четко видно лицо.'\n",
    "URL_COL = 'Дай ссылку на свою страницу Вконтакте и мы поможем найти твоих друзей на встрече'\n",
    "CITY_COL = 'Из какого ты города?'\n",
    "BACHELOR_COL = 'Выбери свой первый вуз - бакалавриат'\n",
    "OTHER_BACH_COL = 'Other'\n",
    "JOB_COL = 'Где ты сейчас работаешь?'\n",
    "HOBBY_COL = 'Какое у тебя хобби?'\n",
    "INTERESTS_COL = 'Расскажи о своих профессиональных интересах.'\n",
    "FUN_COL = 'Фраза'\n",
    "NAME_COL = 'Назови своё имя'\n",
    "IN_CLUB_COL = 'Член клуба'\n",
    "PRESENCE_COL = 'Присутствие'"
   ]
  },
  {
   "cell_type": "code",
   "execution_count": 11,
   "metadata": {},
   "outputs": [
    {
     "data": {
      "text/plain": [
       "7        https://vk.com/id166330633\n",
       "53          https://vk.com/dborunov\n",
       "33        https://vk.com/tereshanna\n",
       "17              https://vk.com/feed\n",
       "11    https://vk.com/svoeobuchnaya \n",
       "44                              NaN\n",
       "61        https://m.vk.com/evgennik\n",
       "46       https://vk.com/id129531173\n",
       "68       https://vk.com/eeepavlenko\n",
       "20         https://vk.com/az_zakria\n",
       "Name: Дай ссылку на свою страницу Вконтакте и мы поможем найти твоих друзей на встрече, dtype: object"
      ]
     },
     "execution_count": 11,
     "metadata": {},
     "output_type": "execute_result"
    }
   ],
   "source": [
    "links = excel.loc[:, URL_COL]\n",
    "links.sample(10)"
   ]
  },
  {
   "cell_type": "code",
   "execution_count": 12,
   "metadata": {
    "collapsed": true
   },
   "outputs": [],
   "source": [
    "import json\n",
    "import urllib"
   ]
  },
  {
   "cell_type": "code",
   "execution_count": 13,
   "metadata": {},
   "outputs": [
    {
     "name": "stdout",
     "output_type": "stream",
     "text": [
      "{'id': 10530059, 'first_name': 'Вася', 'last_name': 'Сиников', 'is_closed': False, 'can_access_closed': True, 'photo_50': 'https://pp.userapi.com/c630716/v630716059/49338/-iB3XGuYES8.jpg?ava=1'}\n"
     ]
    }
   ],
   "source": [
    "def get_user_by_name(username):\n",
    "    resp = json.loads(\n",
    "        urllib.request.urlopen(\n",
    "            'https://api.vk.com/method/users.get?v='+vk_api_version+'&user_ids='+username\n",
    "            +'&fields=name,photo_50&access_token='+token).read().decode('utf-8')\n",
    "    )\n",
    "    return resp['response'][0]\n",
    "user_data = get_user_by_name('va.sinikov')\n",
    "print(user_data)"
   ]
  },
  {
   "cell_type": "code",
   "execution_count": 14,
   "metadata": {
    "collapsed": true
   },
   "outputs": [],
   "source": [
    "def get_friends(uid):\n",
    "    _friends = json.loads(urllib.request.urlopen(\n",
    "        'https://api.vk.com/method/friends.get?v='+vk_api_version+'&user_id='+str(uid)\n",
    "        +'&fields=name,photo_50&access_token='+token).read().decode('utf-8'))\n",
    "    return _friends['response']['items']"
   ]
  },
  {
   "cell_type": "code",
   "execution_count": 15,
   "metadata": {},
   "outputs": [
    {
     "name": "stdout",
     "output_type": "stream",
     "text": [
      "https://vk.com/galgashova\n",
      "['galgashova']\n",
      "{'id': 5667261, 'first_name': 'Стася', 'last_name': 'Галгашова', 'is_closed': False, 'can_access_closed': True, 'photo_50': 'https://pp.userapi.com/c841629/v841629756/33750/pigS8NyGXeY.jpg?ava=1'}\n",
      "795\n"
     ]
    }
   ],
   "source": [
    "import re\n",
    "import tqdm\n",
    "import time\n",
    "UID_RE = 'vk\\.com/([a-z0-9\\.\\_]+)'\n",
    "\n",
    "uid = links.dropna().sample(1).iloc[0]\n",
    "print(uid)\n",
    "unames = re.findall(UID_RE, uid)\n",
    "print(unames)\n",
    "if unames:\n",
    "    user_data = get_user_by_name(unames[0])\n",
    "    print(user_data)\n",
    "    friends = get_friends(user_data['id'])\n",
    "    print(len(friends))"
   ]
  },
  {
   "cell_type": "code",
   "execution_count": 16,
   "metadata": {},
   "outputs": [
    {
     "data": {
      "text/plain": [
       "{'can_access_closed': True,\n",
       " 'first_name': 'Стася',\n",
       " 'id': 5667261,\n",
       " 'is_closed': False,\n",
       " 'last_name': 'Галгашова',\n",
       " 'photo_50': 'https://pp.userapi.com/c841629/v841629756/33750/pigS8NyGXeY.jpg?ava=1'}"
      ]
     },
     "execution_count": 16,
     "metadata": {},
     "output_type": "execute_result"
    }
   ],
   "source": [
    "user_data"
   ]
  },
  {
   "cell_type": "code",
   "execution_count": null,
   "metadata": {},
   "outputs": [
    {
     "data": {
      "text/plain": [
       "['galgashova']"
      ]
     },
     "execution_count": 17,
     "metadata": {},
     "output_type": "execute_result"
    }
   ],
   "source": [
    "unames"
   ]
  },
  {
   "cell_type": "code",
   "execution_count": null,
   "metadata": {
    "scrolled": true
   },
   "outputs": [
    {
     "data": {
      "application/vnd.jupyter.widget-view+json": {
       "model_id": "ec00224aaf0e4247b9c9de7404ac261c"
      }
     },
     "metadata": {},
     "output_type": "display_data"
    },
    {
     "name": "stdout",
     "output_type": "stream",
     "text": [
      "https://vk.com/timuraz         -> 454\n",
      "\"\" is invalid link\n",
      "https://vk.com/id119458406     -> 813\n",
      "https://vk.com/hello_dashka    -> 568\n",
      "https://m.vk.com/maxmold       -> 1271\n",
      "https://vk.com/ksela           -> 276\n",
      "https://vk.com/ikolankov       -> 1143\n",
      "https://vk.com/id166330633     -> 250\n",
      "https://vk.com/revolkov        -> 1403\n",
      "https://vk.com/vladislav_rasskazov -> 273\n",
      "https://vk.com/yulia.gorodishcher -> 646\n",
      "https://vk.com/svoeobuchnaya   -> 425\n",
      "https://vk.com/elenasachkova   -> 169\n",
      "https://vk.com/vika.lipatova   -> 277\n",
      "\"\" is invalid link\n",
      "\"\" is invalid link\n",
      "https://m.vk.com/id4368063     -> 144\n",
      "\"https://vk.com/feed\" is invalid link\n",
      "https://vk.com/heysoch         -> 1271\n",
      "https://vk.com/da_ilienkov     -> 818\n",
      "https://vk.com/az_zakria       -> 482\n",
      "\"id31870485\" is closed\n",
      "https://vk.com/mvishnevskii    -> 256\n",
      "https://vk.com/a.lantsoff      -> 1086\n",
      "https://m.vk.com/id7263977     -> 215\n",
      "https://vk.com/nickolaevegor   -> 170\n",
      "https://vk.com/alievaleila     -> 229\n",
      "https://vk.com/certainways     -> 272\n",
      "\"https://vk.com\" is invalid link\n",
      "https://vk.com/abelyankin      -> 440\n",
      "https://vk.com/id94836782      -> 379\n",
      "https://vk.com/sashkacarton    -> 475\n",
      "https://vk.com/id18797692      -> 323\n",
      "https://vk.com/tereshanna      -> 715\n",
      "https://vk.com/ant.grushko     -> 366\n",
      "https://vk.com/todorovic       -> 264\n",
      "https://www.vk.com/dombaanay   -> 281\n",
      "https://vk.com/rakovskayaa     -> 271\n",
      "https://vk.com/siberria        -> 370\n",
      "https://vk.com/id6154182       -> 461\n",
      "https://vk.com/nastyakls       -> 377\n",
      "https://m.vk.com/rostislav_zem -> 820\n",
      "https://vk.com/vladimir_a_bragin -> 1521\n",
      "https://vk.com/m_rosl          -> 288\n",
      "\"\" is invalid link\n",
      "https://vk.com/aira_mo         -> 1507\n",
      "https://vk.com/id129531173     -> 128\n",
      "https://vk.com/vladislav_aleshin -> 419\n",
      "https://vk.com/sergeykalinichenko -> 1982\n",
      "https://m.vk.com/gimiran       -> 335\n",
      "https://vk.com/galgashova      -> 795\n",
      "https://vk.com/id108422640     -> 350\n",
      "https://vk.com/darr1a          -> 493\n",
      "https://vk.com/dborunov        -> 492\n",
      "https://vk.com/kolikov93       -> 428\n",
      "http://vk.com/id55827129       -> 169\n",
      "https://vk.com/petrova         -> 1961\n",
      "https://vk.com/shadowknight    -> 459\n",
      "https://www.vk.com/radmilasultanova -> 476\n",
      "https://vk.com/goohard         -> 511\n",
      "https://vk.com/dale.david      -> 1055\n",
      "https://m.vk.com/evgennik      -> 886\n",
      "https://m.vk.com/mariilin      -> 431\n",
      "https://vk.com/nikita.tolstoy  -> 808\n",
      "\"\" is invalid link\n",
      "https://m.vk.com/r.zayashnikov -> 742\n",
      "https://vk.com/va.sinikov      -> 655\n",
      "\"\" is invalid link\n",
      "https://vk.com/eeepavlenko     -> 390\n",
      "https://vk.com/id227603761     -> 660\n",
      "https://vk.com/id_kir          -> 436\n",
      "https://vk.com/annapodobrazhnykh -> 1250\n",
      "https://vk.com/vauvision       -> 1778\n",
      "https://vk.com/dfeld           -> 440\n",
      "https://vk.com/soldatov_ax     -> 642\n",
      "https://vk.com/jarokoryakin    -> 198\n",
      "https://vk.com/alfiya_babiy    -> 111\n",
      "https://vk.com/anastasia_an_g  -> 463\n",
      "https://vk.com/stepan___ivanov -> 439\n",
      "https://vk.com/love_buh        -> 912\n",
      "https://vk.com/zhonibek        -> 362\n"
     ]
    }
   ],
   "source": [
    "members = {}\n",
    "member_friends = {}\n",
    "for row_id in tqdm.tqdm_notebook(np.arange(excel.shape[0])):\n",
    "    row = excel.iloc[row_id].fillna('')\n",
    "    vk_url = row[URL_COL]\n",
    "    unames = re.findall(UID_RE, vk_url)\n",
    "    if len(unames) == 0 or unames[0] == 'feed': \n",
    "        print('\"{}\" is invalid link'.format(vk_url))\n",
    "        continue\n",
    "    user_data = get_user_by_name(unames[0])\n",
    "    if user_data['is_closed'] and not user_data['can_access_closed']:\n",
    "        print('\"{}\" is closed'.format(unames[0]))\n",
    "        continue\n",
    "    members[row_id] = user_data\n",
    "    friends = get_friends(user_data['id'])\n",
    "    member_friends[user_data['id']] = friends\n",
    "    print('{:30} -> {}'.format(vk_url, len(friends)))\n",
    "    time.sleep(0.3)"
   ]
  },
  {
   "cell_type": "code",
   "execution_count": null,
   "metadata": {},
   "outputs": [],
   "source": [
    "print(len(members))"
   ]
  },
  {
   "cell_type": "code",
   "execution_count": null,
   "metadata": {
    "collapsed": true
   },
   "outputs": [],
   "source": [
    "uid2rowid = {v['id']: k for k, v in members.items()}\n",
    "rowid2name = {k: '{} {}'.format(excel.iloc[k, 1], excel.iloc[k, 2]) for k, v in members.items()}"
   ]
  },
  {
   "cell_type": "code",
   "execution_count": null,
   "metadata": {
    "collapsed": true
   },
   "outputs": [],
   "source": [
    "from collections import defaultdict"
   ]
  },
  {
   "cell_type": "code",
   "execution_count": null,
   "metadata": {},
   "outputs": [],
   "source": [
    "member_names = [rowid2name[rowid] for rowid in members.keys()]\n",
    "membername2rowid = {rowid2name[rowid]: rowid for rowid in members.keys()}\n",
    "membername2friendnames = defaultdict(list)\n",
    "pairs = []\n",
    "for uid, friends in member_friends.items():\n",
    "    left_name = rowid2name[uid2rowid[uid]]\n",
    "    for friend in friends:\n",
    "        if friend['id'] in uid2rowid:\n",
    "            right_name = rowid2name[uid2rowid[friend['id']]]\n",
    "            pairs.append([left_name, right_name])\n",
    "            membername2friendnames[left_name].append(right_name)\n",
    "len(pairs)"
   ]
  },
  {
   "cell_type": "code",
   "execution_count": null,
   "metadata": {
    "collapsed": true
   },
   "outputs": [],
   "source": [
    "membername2idx = {name: idx for idx, name in enumerate(member_names)}"
   ]
  },
  {
   "cell_type": "code",
   "execution_count": null,
   "metadata": {},
   "outputs": [],
   "source": [
    "pairs_df = pd.DataFrame(pairs, columns=['first', 'second'])\n",
    "pairs_df.head()"
   ]
  },
  {
   "cell_type": "code",
   "execution_count": null,
   "metadata": {},
   "outputs": [],
   "source": [
    "matrix = pairs_df.pivot_table(index='first', columns='second', aggfunc=len).fillna(0).astype(int)\n",
    "matrix.shape"
   ]
  },
  {
   "cell_type": "code",
   "execution_count": null,
   "metadata": {
    "collapsed": true
   },
   "outputs": [],
   "source": [
    "# matrix.to_excel('matrix.xlsx')"
   ]
  },
  {
   "cell_type": "markdown",
   "metadata": {},
   "source": [
    "# Визуализация\n",
    "\n",
    "Теперь подключим библиотеку networkx, которая позволяет проводить расчёты на графах и визуализировать их."
   ]
  },
  {
   "cell_type": "code",
   "execution_count": null,
   "metadata": {
    "collapsed": true
   },
   "outputs": [],
   "source": [
    "import networkx as nx"
   ]
  },
  {
   "cell_type": "markdown",
   "metadata": {},
   "source": [
    "Создадим граф, добавив туда только друзей иосновного пользователя и связи между ними."
   ]
  },
  {
   "cell_type": "code",
   "execution_count": null,
   "metadata": {
    "collapsed": true
   },
   "outputs": [],
   "source": [
    "G = nx.Graph()\n",
    "G.add_nodes_from(member_names)\n",
    "G.add_edges_from(pairs)"
   ]
  },
  {
   "cell_type": "markdown",
   "metadata": {},
   "source": [
    "Каков размер графа?"
   ]
  },
  {
   "cell_type": "code",
   "execution_count": null,
   "metadata": {},
   "outputs": [],
   "source": [
    "print(G.number_of_nodes(), G.number_of_edges())"
   ]
  },
  {
   "cell_type": "markdown",
   "metadata": {},
   "source": [
    "Воспользуемся готовым алгоритмом визуализации графа. Видим, что есть много точек, ни с кем не связанных."
   ]
  },
  {
   "cell_type": "code",
   "execution_count": null,
   "metadata": {},
   "outputs": [],
   "source": [
    "G.is_directed()"
   ]
  },
  {
   "cell_type": "code",
   "execution_count": null,
   "metadata": {},
   "outputs": [],
   "source": [
    "pd.Series(dict(G.degree)).sort_values(ascending=False)"
   ]
  },
  {
   "cell_type": "code",
   "execution_count": null,
   "metadata": {},
   "outputs": [],
   "source": [
    "nx.draw(G, node_size=1)"
   ]
  },
  {
   "cell_type": "markdown",
   "metadata": {},
   "source": [
    "Оказывается, библиотека networkx умеет отвечать на вопросы о свойствах графа, например, о том, является ли он связным."
   ]
  },
  {
   "cell_type": "code",
   "execution_count": null,
   "metadata": {},
   "outputs": [],
   "source": [
    "nx.is_connected(G)"
   ]
  },
  {
   "cell_type": "markdown",
   "metadata": {},
   "source": [
    "Посчитаем число соединённых компонент в графе."
   ]
  },
  {
   "cell_type": "code",
   "execution_count": null,
   "metadata": {},
   "outputs": [],
   "source": [
    "subgraphs = [sg for sg in nx.connected_component_subgraphs(G)]\n",
    "print(len(subgraphs))"
   ]
  },
  {
   "cell_type": "code",
   "execution_count": null,
   "metadata": {},
   "outputs": [],
   "source": [
    "comp_lengths = [len(sg.nodes()) for sg in subgraphs]\n",
    "print(comp_lengths)"
   ]
  },
  {
   "cell_type": "code",
   "execution_count": null,
   "metadata": {
    "collapsed": true
   },
   "outputs": [],
   "source": [
    "G1 = subgraphs[np.argmax(comp_lengths)]"
   ]
  },
  {
   "cell_type": "code",
   "execution_count": null,
   "metadata": {},
   "outputs": [],
   "source": [
    "nx.degree(G1)"
   ]
  },
  {
   "cell_type": "code",
   "execution_count": null,
   "metadata": {},
   "outputs": [],
   "source": [
    "degrees=pd.Series(dict(nx.degree(G1)))\n",
    "plt.hist(degrees, bins=10);"
   ]
  },
  {
   "cell_type": "markdown",
   "metadata": {},
   "source": [
    "Тот алгоритм рисования графа, которым мы воспользовались, основан на воображаемых \"пружинках\" между узлами."
   ]
  },
  {
   "cell_type": "code",
   "execution_count": null,
   "metadata": {},
   "outputs": [],
   "source": [
    "plt.figure(figsize = (15,10))\n",
    "labels = {f:f for f in member_names if f in G1.nodes()}\n",
    "nx.draw_spring(\n",
    "    G1, node_size=1, width=0.3, labels = labels, font_size=10, font_family='Verdana', \n",
    "    k=10, iterations=500, threshold=1e-10\n",
    ");"
   ]
  },
  {
   "cell_type": "markdown",
   "metadata": {},
   "source": [
    "Есть и другие методы визуализации - например, с помощью концентрических окружностей."
   ]
  },
  {
   "cell_type": "code",
   "execution_count": null,
   "metadata": {},
   "outputs": [],
   "source": [
    "plt.figure(figsize = (10,10))\n",
    "nx.draw_shell(G1, node_size = 1, width  = 0.1, labels = labels)"
   ]
  },
  {
   "cell_type": "markdown",
   "metadata": {},
   "source": [
    "Если у вас очень много друзей, можно нарисовать случайный подграф вашего графа"
   ]
  },
  {
   "cell_type": "code",
   "execution_count": null,
   "metadata": {},
   "outputs": [],
   "source": [
    "random_friends = np.random.choice(range(len(G1)), size=30, replace = False)\n",
    "all_nodes = G1.nodes()\n",
    "G2 = G1.subgraph([member_names[i] for i in random_friends])\n",
    "subgraphs2 = [sg for sg in nx.connected_component_subgraphs(G2)]\n",
    "G2 = subgraphs2[np.argmax([len(sg) for sg in subgraphs2])]\n",
    "labels2 = {f:f for f in member_names if f in G2.nodes()}\n",
    "\n",
    "plt.figure(figsize = (10,8))\n",
    "nx.draw_spring(G2, node_size = 5, width  = 0.3, labels = labels2, font_size = 10, font_family  = 'Verdana')"
   ]
  },
  {
   "cell_type": "markdown",
   "metadata": {},
   "source": [
    "# Экспорт данных"
   ]
  },
  {
   "cell_type": "code",
   "execution_count": null,
   "metadata": {},
   "outputs": [],
   "source": [
    "\n",
    "\n",
    "coord = nx.kamada_kawai_layout(G1, )\n",
    "xy = np.stack(list(coord.values()))\n",
    "plt.plot(xy[:,0], xy[:, 1])"
   ]
  },
  {
   "cell_type": "code",
   "execution_count": null,
   "metadata": {
    "collapsed": true
   },
   "outputs": [],
   "source": [
    "def get_bachelor(row):\n",
    "    if row.loc[BACHELOR_COL] is np.nan:\n",
    "        return row.loc[OTHER_BACH_COL]\n",
    "    return row.loc[BACHELOR_COL]"
   ]
  },
  {
   "cell_type": "code",
   "execution_count": null,
   "metadata": {
    "scrolled": true
   },
   "outputs": [],
   "source": [
    "sub = list(G1.nodes)\n",
    "\n",
    "export = {\n",
    "    \"members\": [\n",
    "        {\n",
    "            \"name\": member_name, \n",
    "            \"img\": excel.loc[membername2rowid[member_name], PHOTO_COL],\n",
    "            \"url\": excel.loc[membername2rowid[member_name], URL_COL], \n",
    "            \"x\": coord[member_name][0] * 0.5 + 0.5,\n",
    "            \"y\": coord[member_name][1] * 0.5 + 0.5,\n",
    "            \"friends\": [c for c in membername2friendnames[member_name] if c in sub],\n",
    "            \"vk_img\": members[membername2rowid[member_name]]['photo_50'],\n",
    "            'city': excel.loc[membername2rowid[member_name], CITY_COL],\n",
    "            'bachelor': get_bachelor(excel.loc[membername2rowid[member_name]]),\n",
    "            'job': excel.loc[membername2rowid[member_name], JOB_COL],\n",
    "            'interests': excel.loc[membername2rowid[member_name], INTERESTS_COL],\n",
    "            'hobby': excel.loc[membername2rowid[member_name], HOBBY_COL],\n",
    "            'fun': excel.loc[membername2rowid[member_name], FUN_COL],\n",
    "            'inflections': get_inflections(excel.loc[membername2rowid[member_name], NAME_COL]),\n",
    "            'in_club': bool(excel.loc[membername2rowid[member_name], IN_CLUB_COL]),\n",
    "            'presence': bool(excel.loc[membername2rowid[member_name], PRESENCE_COL]),\n",
    "            'idx': i\n",
    "        }\n",
    "        for i, member_name in enumerate(sub)\n",
    "    ]\n",
    "}\n",
    "export"
   ]
  },
  {
   "cell_type": "code",
   "execution_count": null,
   "metadata": {},
   "outputs": [],
   "source": [
    "import codecs\n",
    "with codecs.open('kv_soc_graph/graph_data.json', 'w', encoding='utf-8') as f:\n",
    "    f.write('graph_data=' + json.dumps(export, ensure_ascii=False, indent=2))"
   ]
  },
  {
   "cell_type": "code",
   "execution_count": null,
   "metadata": {
    "collapsed": true
   },
   "outputs": [],
   "source": []
  },
  {
   "cell_type": "code",
   "execution_count": null,
   "metadata": {
    "collapsed": true
   },
   "outputs": [],
   "source": []
  }
 ],
 "metadata": {
  "anaconda-cloud": {},
  "kernelspec": {
   "display_name": "Python 3",
   "language": "python",
   "name": "python3"
  },
  "language_info": {
   "codemirror_mode": {
    "name": "ipython",
    "version": 3
   },
   "file_extension": ".py",
   "mimetype": "text/x-python",
   "name": "python",
   "nbconvert_exporter": "python",
   "pygments_lexer": "ipython3",
   "version": "3.6.1"
  }
 },
 "nbformat": 4,
 "nbformat_minor": 1
}
